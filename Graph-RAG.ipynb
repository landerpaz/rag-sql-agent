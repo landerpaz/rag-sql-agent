{
 "cells": [
  {
   "cell_type": "code",
   "execution_count": 1,
   "id": "8779faaa",
   "metadata": {},
   "outputs": [
    {
     "name": "stdout",
     "output_type": "stream",
     "text": [
      "\u001b[33mDEPRECATION: Loading egg at /Users/ashokarulsamy/anaconda3/lib/python3.11/site-packages/basicsr-1.4.2-py3.11.egg is deprecated. pip 23.3 will enforce this behaviour change. A possible replacement is to use pip for package installation..\u001b[0m\u001b[33m\n",
      "\u001b[0m\u001b[33mDEPRECATION: Loading egg at /Users/ashokarulsamy/anaconda3/lib/python3.11/site-packages/facexlib-0.3.0-py3.11.egg is deprecated. pip 23.3 will enforce this behaviour change. A possible replacement is to use pip for package installation..\u001b[0m\u001b[33m\n",
      "\u001b[0m\u001b[33mDEPRECATION: Loading egg at /Users/ashokarulsamy/anaconda3/lib/python3.11/site-packages/opencv_python-4.11.0.86-py3.11-macosx-11.1-arm64.egg is deprecated. pip 23.3 will enforce this behaviour change. A possible replacement is to use pip for package installation..\u001b[0m\u001b[33m\n",
      "\u001b[0m\u001b[33mDEPRECATION: Loading egg at /Users/ashokarulsamy/anaconda3/lib/python3.11/site-packages/gfpgan-1.3.8-py3.11.egg is deprecated. pip 23.3 will enforce this behaviour change. A possible replacement is to use pip for package installation..\u001b[0m\u001b[33m\n",
      "\u001b[0m\u001b[33mDEPRECATION: Loading egg at /Users/ashokarulsamy/anaconda3/lib/python3.11/site-packages/torchvision-0.22.0-py3.11-macosx-11.1-arm64.egg is deprecated. pip 23.3 will enforce this behaviour change. A possible replacement is to use pip for package installation..\u001b[0m\u001b[33m\n",
      "\u001b[0mNote: you may need to restart the kernel to use updated packages.\n"
     ]
    }
   ],
   "source": [
    "pip install --upgrade --quiet langchain_openai langchain_core psycopg2"
   ]
  },
  {
   "cell_type": "code",
   "execution_count": null,
   "id": "3cf664df",
   "metadata": {},
   "outputs": [],
   "source": [
    "# graph.query(\"\"\"\n",
    "#     UNWIND ['Tom Cruise', 'Val Kilmer', 'Anthony Edwards', 'Meg Ryan'] AS actor\n",
    "#     MERGE (m:Movie {title:'Top Gun'})\n",
    "#     MERGE (a:Actor {name: actor})\n",
    "#     MERGE (a)-[:ACTED_IN]->(m)\n",
    "# \"\"\")\n",
    "# )"
   ]
  },
  {
   "cell_type": "code",
   "execution_count": 2,
   "id": "9687924f",
   "metadata": {},
   "outputs": [],
   "source": [
    "#read data from graph db and print\n",
    "\n",
    "import psycopg2\n",
    "\n",
    "# Database connection parameters\n",
    "DB_HOST = \"localhost\"\n",
    "DB_PORT = \"5455\"\n",
    "DB_NAME = \"postgresDB\"\n",
    "DB_USER = \"postgresUser\"\n",
    "DB_PASSWORD = \"postgresPW\"\n",
    "GRAPH_NAME = \"age_test\"\n",
    "\n",
    "# Connect to PostgreSQL\n",
    "conn = psycopg2.connect(\n",
    "    host=DB_HOST,\n",
    "    port=DB_PORT,\n",
    "    dbname=DB_NAME,\n",
    "    user=DB_USER,\n",
    "    password=DB_PASSWORD\n",
    ")\n",
    "\n",
    "def run_cypher_query(query: str):\n",
    "    \"\"\"Execute a Cypher query against Apache AGE\"\"\"\n",
    "    with conn.cursor() as cur:\n",
    "        # Ensure AGE is loaded in session\n",
    "        cur.execute(\"LOAD 'age';\")\n",
    "        cur.execute(\"SET search_path = ag_catalog, public;\")\n",
    "\n",
    "        # Format Cypher query\n",
    "        cypher_sql = f\"\"\"\n",
    "        SELECT * FROM cypher('{GRAPH_NAME}', $$ {query} $$) AS (result agtype);\n",
    "        \"\"\"\n",
    "\n",
    "        # Execute query\n",
    "        cur.execute(cypher_sql)\n",
    "\n",
    "        # Fetch all results\n",
    "        rows = cur.fetchall()\n",
    "        return rows\n",
    "\n"
   ]
  },
  {
   "cell_type": "code",
   "execution_count": 3,
   "id": "0d539db0",
   "metadata": {},
   "outputs": [
    {
     "name": "stdout",
     "output_type": "stream",
     "text": [
      "('{\"id\": 844424930131969, \"label\": \"Movie\", \"properties\": {\"title\": \"Top Gun\"}}::vertex',)\n",
      "('{\"id\": 844424930131970, \"label\": \"Movie\", \"properties\": {\"title\": \"Top Gun\"}}::vertex',)\n",
      "('{\"id\": 844424930131971, \"label\": \"Movie\", \"properties\": {\"title\": \"Top Gun\"}}::vertex',)\n",
      "('{\"id\": 844424930131972, \"label\": \"Movie\", \"properties\": {\"title\": \"Top Gun\"}}::vertex',)\n",
      "('{\"id\": 1125899906842625, \"label\": \"Actor\", \"properties\": {\"name\": \"Tom Cruise\"}}::vertex',)\n"
     ]
    }
   ],
   "source": [
    "#read data from graph db and print\n",
    "if __name__ == \"__main__\":\n",
    "    cypher_query = \"MATCH (n) RETURN n LIMIT 5\"\n",
    "    result = run_cypher_query(cypher_query)\n",
    "    for row in result:\n",
    "        print(row)\n"
   ]
  },
  {
   "cell_type": "code",
   "execution_count": 4,
   "id": "afe0bb42",
   "metadata": {},
   "outputs": [
    {
     "name": "stdout",
     "output_type": "stream",
     "text": [
      "Generated Cypher:\n",
      " MATCH (a:Actor)-[:ACTED_IN]->(m:Movie {title: 'Top Gun'})\n",
      "RETURN a.name\n",
      "\n",
      "Results:\n",
      "{'cypher': \"MATCH (a:Actor)-[:ACTED_IN]->(m:Movie {title: 'Top Gun'})\\nRETURN a.name\", 'results': [('\"Tom Cruise\"',), ('\"Val Kilmer\"',), ('\"Anthony Edwards\"',), ('\"Meg Ryan\"',)]}\n"
     ]
    }
   ],
   "source": [
    "#execute natural language query against graph db using llm\n",
    "import psycopg2\n",
    "from langchain_openai import ChatOpenAI\n",
    "from langchain_core.prompts import PromptTemplate\n",
    "from langchain_core.runnables import Runnable\n",
    "\n",
    "# OpenAI LLM\n",
    "llm = ChatOpenAI(temperature=0, openai_api_key=\"\")\n",
    "\n",
    "# Apache AGE Cypher prompt\n",
    "cypher_prompt_template = PromptTemplate(\n",
    "    input_variables=[\"query\"],\n",
    "    template=\"\"\"\n",
    "You are a Cypher expert for the Apache AGE graph database.\n",
    "Given a user question, generate a Cypher query that runs on a graph named 'age_test'.\n",
    "\n",
    "Question: {query}\n",
    "\n",
    "Cypher Query:\n",
    "\"\"\"\n",
    ")\n",
    "\n",
    "\n",
    "# Connect to PostgreSQL/AGE\n",
    "def run_cypher_on_age(cypher_query: str):\n",
    "    conn = psycopg2.connect(\n",
    "        host=\"localhost\",\n",
    "        port=\"5455\",\n",
    "        dbname=\"postgresDB\",\n",
    "        user=\"postgresUser\",\n",
    "        password=\"postgresPW\"\n",
    "    )\n",
    "    with conn.cursor() as cur:\n",
    "        cur.execute(\"LOAD 'age';\")\n",
    "        cur.execute(\"SET search_path = ag_catalog, public;\")\n",
    "        sql = f\"SELECT * FROM cypher('age_test', $$ {cypher_query} $$) AS (result agtype);\"\n",
    "        cur.execute(sql)\n",
    "        rows = cur.fetchall()\n",
    "    conn.close()\n",
    "    return rows\n",
    "\n",
    "# Runnable chain\n",
    "class AGEGraphQAChain(Runnable):\n",
    "    def __init__(self, llm, prompt_template):\n",
    "        self.llm = llm\n",
    "        self.prompt_template = prompt_template\n",
    "\n",
    "    def invoke(self, query: str):\n",
    "        # 1. Generate Cypher query using LLM\n",
    "        cypher_prompt = self.prompt_template.format(query=query)\n",
    "        cypher_query = self.llm.invoke(cypher_prompt).content.strip()\n",
    "        print(\"Generated Cypher:\\n\", cypher_query)\n",
    "\n",
    "        # 2. Execute Cypher query\n",
    "        try:\n",
    "            results = run_cypher_on_age(cypher_query)\n",
    "            return {\"cypher\": cypher_query, \"results\": results}\n",
    "        except Exception as e:\n",
    "            return {\"cypher\": cypher_query, \"error\": str(e)}\n",
    "\n",
    "# Example usage\n",
    "if __name__ == \"__main__\":\n",
    "    qa_chain = AGEGraphQAChain(llm, cypher_prompt_template)\n",
    "    question = \"List all actors who acted in Top Gun\"\n",
    "    response = qa_chain.invoke(question)\n",
    "\n",
    "    print(\"\\nResults:\")\n",
    "    print(response)\n"
   ]
  },
  {
   "cell_type": "code",
   "execution_count": null,
   "id": "4f0e9e77",
   "metadata": {},
   "outputs": [],
   "source": [
    "pip install --upgrade --force-reinstall numpy pandas # only if any compatibility issue with panda and numpy"
   ]
  },
  {
   "cell_type": "code",
   "execution_count": 10,
   "id": "f725b770",
   "metadata": {},
   "outputs": [
    {
     "name": "stdout",
     "output_type": "stream",
     "text": [
      "Generated Cypher:\n",
      " MATCH (n:Database {name: 'SB1'})-[r]->()\n",
      "RETURN r\n",
      "\n",
      "Results:\n",
      "{'cypher': \"MATCH (n:Database {name: 'SB1'})-[r]->()\\nRETURN r\", 'results': []}\n"
     ]
    }
   ],
   "source": [
    "#execute natural language query against graph db using llm\n",
    "import psycopg2\n",
    "from langchain_openai import ChatOpenAI\n",
    "from langchain_core.prompts import PromptTemplate\n",
    "from langchain_core.runnables import Runnable\n",
    "\n",
    "# OpenAI LLM\n",
    "llm = ChatOpenAI(temperature=0, openai_api_key=\"\")\n",
    "\n",
    "# Apache AGE Cypher prompt\n",
    "cypher_prompt_template = PromptTemplate(\n",
    "    input_variables=[\"query\"],\n",
    "    template=\"\"\"\n",
    "You are a Cypher expert for the Apache AGE graph database.\n",
    "Given a user question, generate a Cypher query that runs on a graph named 'age_test'.\n",
    "\n",
    "Question: {query}\n",
    "\n",
    "Cypher Query:\n",
    "\"\"\"\n",
    ")\n",
    "\n",
    "\n",
    "# Connect to PostgreSQL/AGE\n",
    "def run_cypher_on_age(cypher_query: str):\n",
    "    conn = psycopg2.connect(\n",
    "        host=\"localhost\",\n",
    "        port=\"5455\",\n",
    "        dbname=\"postgresDB\",\n",
    "        user=\"postgresUser\",\n",
    "        password=\"postgresPW\"\n",
    "    )\n",
    "    with conn.cursor() as cur:\n",
    "        cur.execute(\"LOAD 'age';\")\n",
    "        cur.execute(\"SET search_path = ag_catalog, public;\")\n",
    "        sql = f\"SELECT * FROM cypher('cmdb_graph', $$ {cypher_query} $$) AS (result agtype);\"\n",
    "        cur.execute(sql)\n",
    "        rows = cur.fetchall()\n",
    "    conn.close()\n",
    "    return rows\n",
    "\n",
    "# Runnable chain\n",
    "class AGEGraphQAChain(Runnable):\n",
    "    def __init__(self, llm, prompt_template):\n",
    "        self.llm = llm\n",
    "        self.prompt_template = prompt_template\n",
    "\n",
    "    def invoke(self, query: str):\n",
    "        # 1. Generate Cypher query using LLM\n",
    "        cypher_prompt = self.prompt_template.format(query=query)\n",
    "#         cypher_query = self.llm.invoke(cypher_prompt).content.strip()\n",
    "        cypher_query = self.llm.invoke(cypher_prompt).content.strip().rstrip(';')\n",
    "        print(\"Generated Cypher:\\n\", cypher_query)\n",
    "\n",
    "        # 2. Execute Cypher query\n",
    "        try:\n",
    "            results = run_cypher_on_age(cypher_query)\n",
    "            return {\"cypher\": cypher_query, \"results\": results}\n",
    "        except Exception as e:\n",
    "            return {\"cypher\": cypher_query, \"error\": str(e)}\n",
    "\n",
    "# Example usage\n",
    "if __name__ == \"__main__\":\n",
    "    qa_chain = AGEGraphQAChain(llm, cypher_prompt_template)\n",
    "    question = \"list all the relationship for database SB1\"\n",
    "    response = qa_chain.invoke(question)\n",
    "\n",
    "    print(\"\\nResults:\")\n",
    "    print(response)\n"
   ]
  },
  {
   "cell_type": "code",
   "execution_count": 11,
   "id": "53dbd151",
   "metadata": {},
   "outputs": [
    {
     "name": "stdout",
     "output_type": "stream",
     "text": [
      "('{\"id\": 844424930131969, \"label\": \"Server\", \"properties\": {\"name\": \"AppServer1\"}}::vertex',)\n",
      "('{\"id\": 844424930131970, \"label\": \"Server\", \"properties\": {\"name\": \"DBServer1\"}}::vertex',)\n",
      "('{\"id\": 1125899906842625, \"label\": \"Application\", \"properties\": {\"name\": \"App1\"}}::vertex',)\n",
      "('{\"id\": 1407374883553281, \"label\": \"Database\", \"properties\": {\"name\": \"DB1\"}}::vertex',)\n",
      "('{\"id\": 1688849860263937, \"label\": \"Network\", \"properties\": {\"name\": \"Subnet1\"}}::vertex',)\n"
     ]
    }
   ],
   "source": [
    "#read data from graph db and print\n",
    "\n",
    "import psycopg2\n",
    "\n",
    "# Database connection parameters\n",
    "DB_HOST = \"localhost\"\n",
    "DB_PORT = \"5455\"\n",
    "DB_NAME = \"postgresDB\"\n",
    "DB_USER = \"postgresUser\"\n",
    "DB_PASSWORD = \"postgresPW\"\n",
    "GRAPH_NAME = \"cmdb_graph\"\n",
    "\n",
    "# Connect to PostgreSQL\n",
    "conn = psycopg2.connect(\n",
    "    host=DB_HOST,\n",
    "    port=DB_PORT,\n",
    "    dbname=DB_NAME,\n",
    "    user=DB_USER,\n",
    "    password=DB_PASSWORD\n",
    ")\n",
    "\n",
    "def run_cypher_query(query: str):\n",
    "    \"\"\"Execute a Cypher query against Apache AGE\"\"\"\n",
    "    with conn.cursor() as cur:\n",
    "        # Ensure AGE is loaded in session\n",
    "        cur.execute(\"LOAD 'age';\")\n",
    "        cur.execute(\"SET search_path = ag_catalog, public;\")\n",
    "\n",
    "        # Format Cypher query\n",
    "        cypher_sql = f\"\"\"\n",
    "        SELECT * FROM cypher('{GRAPH_NAME}', $$ {query} $$) AS (result agtype);\n",
    "        \"\"\"\n",
    "\n",
    "        # Execute query\n",
    "        cur.execute(cypher_sql)\n",
    "\n",
    "        # Fetch all results\n",
    "        rows = cur.fetchall()\n",
    "        return rows\n",
    "\n",
    "#read data from graph db and print\n",
    "if __name__ == \"__main__\":\n",
    "    cypher_query = \"MATCH (n) RETURN n LIMIT 5\"\n",
    "    result = run_cypher_query(cypher_query)\n",
    "    for row in result:\n",
    "        print(row)"
   ]
  },
  {
   "cell_type": "code",
   "execution_count": 13,
   "id": "60fe7db8",
   "metadata": {},
   "outputs": [
    {
     "name": "stdout",
     "output_type": "stream",
     "text": [
      "Generated Cypher:\n",
      " MATCH (n:Subnet {name: 'Subnet1'}) RETURN n\n",
      "\n",
      "Results:\n",
      "{'cypher': \"MATCH (n:Subnet {name: 'Subnet1'}) RETURN n\", 'results': []}\n"
     ]
    }
   ],
   "source": [
    "# Example usage\n",
    "if __name__ == \"__main__\":\n",
    "    qa_chain = AGEGraphQAChain(llm, cypher_prompt_template)\n",
    "    question = \"Subnet1\"\n",
    "    response = qa_chain.invoke(question)\n",
    "\n",
    "    print(\"\\nResults:\")\n",
    "    print(response)\n"
   ]
  },
  {
   "cell_type": "code",
   "execution_count": null,
   "id": "332612b3",
   "metadata": {},
   "outputs": [],
   "source": []
  }
 ],
 "metadata": {
  "kernelspec": {
   "display_name": "Python 3 (ipykernel)",
   "language": "python",
   "name": "python3"
  },
  "language_info": {
   "codemirror_mode": {
    "name": "ipython",
    "version": 3
   },
   "file_extension": ".py",
   "mimetype": "text/x-python",
   "name": "python",
   "nbconvert_exporter": "python",
   "pygments_lexer": "ipython3",
   "version": "3.11.5"
  }
 },
 "nbformat": 4,
 "nbformat_minor": 5
}
