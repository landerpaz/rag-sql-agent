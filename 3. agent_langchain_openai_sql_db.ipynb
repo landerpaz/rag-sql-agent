{
 "cells": [
  {
   "cell_type": "markdown",
   "metadata": {},
   "source": [
    "Ref : https://python.langchain.com/docs/use_cases/sql/quickstart/"
   ]
  },
  {
   "cell_type": "code",
   "execution_count": 1,
   "metadata": {},
   "outputs": [],
   "source": [
    "from openai import OpenAI\n",
    "from sqlalchemy import create_engine\n",
    "from langchain.chat_models import ChatOpenAI\n",
    "from langchain_community.utilities import SQLDatabase\n",
    "from langchain_community.agent_toolkits import create_sql_agent\n",
    "from pyprojroot import here\n",
    "import pandas as pd \n",
    "import warnings\n",
    "warnings.filterwarnings(\"ignore\")"
   ]
  },
  {
   "cell_type": "markdown",
   "metadata": {},
   "source": [
    "<b>Load data from csv file into data frame</B>"
   ]
  },
  {
   "cell_type": "code",
   "execution_count": null,
   "metadata": {},
   "outputs": [],
   "source": [
    "df = pd.read_csv(here(\"/Users/ashokarulsamy/Python Learning/itam/data/itam_files/itam_hw.csv\"))\n",
    "print(df.shape)\n",
    "print(df.columns.tolist())\n",
    "display(df.head(3))"
   ]
  },
  {
   "cell_type": "markdown",
   "metadata": {},
   "source": [
    "<b>Load data from data frame into Database</b>"
   ]
  },
  {
   "cell_type": "code",
   "execution_count": 2,
   "metadata": {},
   "outputs": [],
   "source": [
    "db_path = \"/Users/ashokarulsamy/Python Learning/itam/data/sqlite_db/sqlite_itam.db\"\n",
    "db_path = f\"sqlite:///{db_path}\"\n",
    "engine = create_engine(db_path)\n",
    "#df.to_sql(\"itam_hw\", engine, index=False)"
   ]
  },
  {
   "cell_type": "markdown",
   "metadata": {},
   "source": [
    "<b>Create SQL DB object</b>"
   ]
  },
  {
   "cell_type": "code",
   "execution_count": 3,
   "metadata": {},
   "outputs": [
    {
     "name": "stdout",
     "output_type": "stream",
     "text": [
      "sqlite\n",
      "['itam_hw']\n"
     ]
    },
    {
     "data": {
      "text/plain": [
       "\"[('SW002', 'Source Software', 'Software', 'SAP', 'Version-82.2', '2022-11-06', '2027-04-17', 'Ashok Arulsamy', 'Active'), ('HW013', 'Majority Device', 'Hardware', 'Lenovo', 'Model-4924', '2022-04-22', '2029-10-02', 'Ashok Arulsamy', 'In Use'), ('HW024', 'Card Device', 'Hardware', 'Lenovo', 'Model-0757', '2022-12-27', '2028-05-04', 'Ashok Arulsamy', 'Retired'), ('HW053', 'Step Device', 'Hardware', 'Asus', 'Model-6226', '2022-10-14', '2029-05-23', 'Ashok Arulsamy', 'Available')]\""
      ]
     },
     "execution_count": 3,
     "metadata": {},
     "output_type": "execute_result"
    }
   ],
   "source": [
    "db = SQLDatabase(engine=engine)\n",
    "print(db.dialect)\n",
    "print(db.get_usable_table_names())\n",
    "db.run(\"SELECT * FROM itam_hw where assigned_to = 'Ashok Arulsamy'\")"
   ]
  },
  {
   "cell_type": "markdown",
   "metadata": {},
   "source": [
    "<b>Create LLM object</b>"
   ]
  },
  {
   "cell_type": "code",
   "execution_count": 4,
   "metadata": {},
   "outputs": [],
   "source": [
    "llm = ChatOpenAI(\n",
    "    api_key=\"\",\n",
    "    model_name=\"gpt-4o-mini\",\n",
    "    temperature=0.0,\n",
    "    max_tokens=1000\n",
    ")"
   ]
  },
  {
   "cell_type": "markdown",
   "metadata": {},
   "source": [
    "<b>Create Agent</b>"
   ]
  },
  {
   "cell_type": "code",
   "execution_count": 5,
   "metadata": {},
   "outputs": [],
   "source": [
    "agent_executor = create_sql_agent(llm, db=db, agent_type=\"openai-tools\", verbose=True)"
   ]
  },
  {
   "cell_type": "markdown",
   "metadata": {},
   "source": [
    "<b>Execute user query via agent</b>"
   ]
  },
  {
   "cell_type": "code",
   "execution_count": 6,
   "metadata": {},
   "outputs": [
    {
     "name": "stdout",
     "output_type": "stream",
     "text": [
      "\n",
      "\n",
      "\u001b[1m> Entering new SQL Agent Executor chain...\u001b[0m\n",
      "\u001b[32;1m\u001b[1;3m\n",
      "Invoking: `sql_db_list_tables` with `{}`\n",
      "\n",
      "\n",
      "\u001b[32;1m\u001b[1;3m0m\u001b[1;3mitam_hw\u001b[0m\n",
      "Invoking: `sql_db_schema` with `{'table_names': 'itam_hw'}`\n",
      "\n",
      "\n",
      "\u001b[0m\u001b[33;1m\u001b[1;3m\n",
      "CREATE TABLE itam_hw (\n",
      "\t\"Asset_ID\" TEXT, \n",
      "\t\"Asset_Name\" TEXT, \n",
      "\t\"Asset_Type\" TEXT, \n",
      "\t\"Manufacturer\" TEXT, \n",
      "\t\"Model\" TEXT, \n",
      "\t\"Purchase_Date\" TEXT, \n",
      "\t\"Warranty_Expiry\" TEXT, \n",
      "\t\"Assigned_To\" TEXT, \n",
      "\t\"Status\" TEXT\n",
      ")\n",
      "\n",
      "/*\n",
      "3 rows from itam_hw table:\n",
      "Asset_ID\tAsset_Name\tAsset_Type\tManufacturer\tModel\tPurchase_Date\tWarranty_Expiry\tAssigned_To\tStatus\n",
      "HW001\tIt Device\tHardware\tLenovo\tModel-4915\t2022-07-07\t2027-12-29\tWilliam Jackson\tRetired\n",
      "SW002\tSource Software\tSoftware\tSAP\tVersion-82.2\t2022-11-06\t2027-04-17\tAshok Arulsamy\tActive\n",
      "HW003\tGreen Device\tHardware\tHP\tModel-8953\t2020-09-28\t2027-03-16\tJennifer Adams\tRetired\n",
      "\u001b[32;1m\u001b[1;3m\n",
      "Invoking: `sql_db_query_checker` with `{'query': \"SELECT COUNT(*) AS Total_Hardware_Assets FROM itam_hw WHERE Asset_Type = 'Hardware'\"}`\n",
      "\n",
      "\n",
      "\u001b[36;1m\u001b[1;3m```sql\n",
      "SELECT COUNT(*) AS Total_Hardware_Assets FROM itam_hw WHERE Asset_Type = 'Hardware'\n",
      "\u001b[32;1m\u001b[1;3m\n",
      "Invoking: `sql_db_query` with `{'query': \"SELECT COUNT(*) AS Total_Hardware_Assets FROM itam_hw WHERE Asset_Type = 'Hardware'\"}`\n",
      "\n",
      "\n",
      "\u001b[32;1m\u001b[1;3mThere are a total of 56 hardware assets.\u001b[0m\n",
      "\n",
      "\u001b[1m> Finished chain.\u001b[0m\n"
     ]
    },
    {
     "data": {
      "text/plain": [
       "{'input': 'How many hardware assets are there?',\n",
       " 'output': 'There are a total of 56 hardware assets.'}"
      ]
     },
     "execution_count": 6,
     "metadata": {},
     "output_type": "execute_result"
    }
   ],
   "source": [
    "agent_executor.invoke(\n",
    "    {\n",
    "        #\"input\": \"How many assets assigned to Ashok Arulsamy\"\n",
    "        \"input\": \"How many hardware assets are there?\"\n",
    "    }\n",
    ")"
   ]
  }
 ],
 "metadata": {
  "kernelspec": {
   "display_name": "Python 3 (ipykernel)",
   "language": "python",
   "name": "python3"
  },
  "language_info": {
   "codemirror_mode": {
    "name": "ipython",
    "version": 3
   },
   "file_extension": ".py",
   "mimetype": "text/x-python",
   "name": "python",
   "nbconvert_exporter": "python",
   "pygments_lexer": "ipython3",
   "version": "3.11.11"
  }
 },
 "nbformat": 4,
 "nbformat_minor": 4
}
