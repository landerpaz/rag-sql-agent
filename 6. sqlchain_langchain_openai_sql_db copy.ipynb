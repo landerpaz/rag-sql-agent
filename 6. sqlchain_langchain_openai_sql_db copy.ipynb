{
 "cells": [
  {
   "cell_type": "markdown",
   "metadata": {},
   "source": [
    "https://python.langchain.com/docs/use_cases/sql/quickstart/"
   ]
  },
  {
   "cell_type": "code",
   "execution_count": 21,
   "metadata": {},
   "outputs": [],
   "source": [
    "from openai import OpenAI\n",
    "from langchain.chains import create_sql_query_chain\n",
    "from langchain_community.tools.sql_database.tool import QuerySQLDataBaseTool\n",
    "from langchain.chat_models import ChatOpenAI\n",
    "from langchain_community.utilities import SQLDatabase\n",
    "from sqlalchemy import create_engine\n",
    "\n",
    "from pyprojroot import here\n",
    "import pandas as pd \n",
    "import re\n",
    "import warnings\n",
    "warnings.filterwarnings(\"ignore\")"
   ]
  },
  {
   "cell_type": "markdown",
   "metadata": {},
   "source": [
    "Load csv data to data frame"
   ]
  },
  {
   "cell_type": "code",
   "execution_count": 23,
   "metadata": {},
   "outputs": [
    {
     "name": "stdout",
     "output_type": "stream",
     "text": [
      "(100, 9)\n",
      "['Asset_ID', 'Asset_Name', 'Asset_Type', 'Manufacturer', 'Model', 'Purchase_Date', 'Warranty_Expiry', 'Assigned_To', 'Status']\n"
     ]
    },
    {
     "data": {
      "text/html": [
       "<div>\n",
       "<style scoped>\n",
       "    .dataframe tbody tr th:only-of-type {\n",
       "        vertical-align: middle;\n",
       "    }\n",
       "\n",
       "    .dataframe tbody tr th {\n",
       "        vertical-align: top;\n",
       "    }\n",
       "\n",
       "    .dataframe thead th {\n",
       "        text-align: right;\n",
       "    }\n",
       "</style>\n",
       "<table border=\"1\" class=\"dataframe\">\n",
       "  <thead>\n",
       "    <tr style=\"text-align: right;\">\n",
       "      <th></th>\n",
       "      <th>Asset_ID</th>\n",
       "      <th>Asset_Name</th>\n",
       "      <th>Asset_Type</th>\n",
       "      <th>Manufacturer</th>\n",
       "      <th>Model</th>\n",
       "      <th>Purchase_Date</th>\n",
       "      <th>Warranty_Expiry</th>\n",
       "      <th>Assigned_To</th>\n",
       "      <th>Status</th>\n",
       "    </tr>\n",
       "  </thead>\n",
       "  <tbody>\n",
       "    <tr>\n",
       "      <th>0</th>\n",
       "      <td>HW001</td>\n",
       "      <td>It Device</td>\n",
       "      <td>Hardware</td>\n",
       "      <td>Lenovo</td>\n",
       "      <td>Model-4915</td>\n",
       "      <td>2022-07-07</td>\n",
       "      <td>2027-12-29</td>\n",
       "      <td>William Jackson</td>\n",
       "      <td>Retired</td>\n",
       "    </tr>\n",
       "    <tr>\n",
       "      <th>1</th>\n",
       "      <td>SW002</td>\n",
       "      <td>Source Software</td>\n",
       "      <td>Software</td>\n",
       "      <td>SAP</td>\n",
       "      <td>Version-82.2</td>\n",
       "      <td>2022-11-06</td>\n",
       "      <td>2027-04-17</td>\n",
       "      <td>Ashok Arulsamy</td>\n",
       "      <td>Active</td>\n",
       "    </tr>\n",
       "    <tr>\n",
       "      <th>2</th>\n",
       "      <td>HW003</td>\n",
       "      <td>Green Device</td>\n",
       "      <td>Hardware</td>\n",
       "      <td>HP</td>\n",
       "      <td>Model-8953</td>\n",
       "      <td>2020-09-28</td>\n",
       "      <td>2027-03-16</td>\n",
       "      <td>Jennifer Adams</td>\n",
       "      <td>Retired</td>\n",
       "    </tr>\n",
       "  </tbody>\n",
       "</table>\n",
       "</div>"
      ],
      "text/plain": [
       "  Asset_ID       Asset_Name Asset_Type Manufacturer         Model  \\\n",
       "0    HW001        It Device   Hardware       Lenovo    Model-4915   \n",
       "1    SW002  Source Software   Software          SAP  Version-82.2   \n",
       "2    HW003     Green Device   Hardware           HP    Model-8953   \n",
       "\n",
       "  Purchase_Date Warranty_Expiry      Assigned_To   Status  \n",
       "0    2022-07-07      2027-12-29  William Jackson  Retired  \n",
       "1    2022-11-06      2027-04-17   Ashok Arulsamy   Active  \n",
       "2    2020-09-28      2027-03-16   Jennifer Adams  Retired  "
      ]
     },
     "metadata": {},
     "output_type": "display_data"
    }
   ],
   "source": [
    "df = pd.read_csv(here(\"/Users/ashokarulsamy/Python Learning/itam/data/itam_files/itam_hw.csv\"))\n",
    "print(df.shape)\n",
    "print(df.columns.tolist())\n",
    "display(df.head(3))"
   ]
  },
  {
   "cell_type": "markdown",
   "metadata": {},
   "source": [
    "Load data from data frame to database"
   ]
  },
  {
   "cell_type": "code",
   "execution_count": null,
   "metadata": {},
   "outputs": [],
   "source": [
    "db_path = \"/Users/ashokarulsamy/Python Learning/itam/data/sqlite_db/sqlite_itam.db\"\n",
    "db_path = f\"sqlite:///{db_path}\"\n",
    "engine = create_engine(db_path)\n",
    "#df.to_sql(\"itam_hw\", engine, index=False)"
   ]
  },
  {
   "cell_type": "markdown",
   "metadata": {},
   "source": [
    "Create DB object"
   ]
  },
  {
   "cell_type": "code",
   "execution_count": 11,
   "metadata": {},
   "outputs": [
    {
     "name": "stdout",
     "output_type": "stream",
     "text": [
      "sqlite\n",
      "['itam_hw']\n"
     ]
    },
    {
     "data": {
      "text/plain": [
       "\"[('SW002', 'Source Software', 'Software', 'SAP', 'Version-82.2', '2022-11-06', '2027-04-17', 'Ashok Arulsamy', 'Active'), ('HW013', 'Majority Device', 'Hardware', 'Lenovo', 'Model-4924', '2022-04-22', '2029-10-02', 'Ashok Arulsamy', 'In Use'), ('HW024', 'Card Device', 'Hardware', 'Lenovo', 'Model-0757', '2022-12-27', '2028-05-04', 'Ashok Arulsamy', 'Retired'), ('HW053', 'Step Device', 'Hardware', 'Asus', 'Model-6226', '2022-10-14', '2029-05-23', 'Ashok Arulsamy', 'Available')]\""
      ]
     },
     "execution_count": 11,
     "metadata": {},
     "output_type": "execute_result"
    }
   ],
   "source": [
    "db = SQLDatabase(engine=engine)\n",
    "print(db.dialect)\n",
    "print(db.get_usable_table_names())\n",
    "db.run(\"SELECT * FROM itam_hw where assigned_to = 'Ashok Arulsamy'\")"
   ]
  },
  {
   "cell_type": "markdown",
   "metadata": {},
   "source": [
    "Create LLM object"
   ]
  },
  {
   "cell_type": "code",
   "execution_count": 13,
   "metadata": {},
   "outputs": [],
   "source": [
    "llm = ChatOpenAI(\n",
    "    api_key=\"\",\n",
    "    model_name=\"gpt-4o-mini\",\n",
    "    temperature=0.0,\n",
    "    max_tokens=1000\n",
    ")"
   ]
  },
  {
   "cell_type": "markdown",
   "metadata": {},
   "source": [
    "Convert user query into corresponding SQL query"
   ]
  },
  {
   "cell_type": "code",
   "execution_count": 14,
   "metadata": {},
   "outputs": [
    {
     "name": "stdout",
     "output_type": "stream",
     "text": [
      "SQLQuery: SELECT COUNT(*) AS \"Hardware_Asset_Count\" FROM itam_hw WHERE \"Asset_Type\" = 'Hardware';\n"
     ]
    }
   ],
   "source": [
    "chain = create_sql_query_chain(llm, db)\n",
    "response = chain.invoke({\"question\": \"How many hardware assets are there\"})\n",
    "print(response)"
   ]
  },
  {
   "cell_type": "markdown",
   "metadata": {},
   "source": [
    "Utility function to clean up the sql query"
   ]
  },
  {
   "cell_type": "code",
   "execution_count": 18,
   "metadata": {},
   "outputs": [],
   "source": [
    "def parse_output(output):\n",
    "    if response.startswith(\"SQLQuery: \"):\n",
    "        executable_query = response.replace(\"SQLQuery: \", \"\", 1)  # Remove first occurrence\n",
    "        #print(executable_query)\n",
    "    \n",
    "    if executable_query.startswith(\"SQLQuery: \"):\n",
    "        executable_query = executable_query.replace(\"SQLQuery: \", \"\", 1)  # Remove any more occurrence\n",
    "        #print(executable_query)\n",
    "    \n",
    "    matches = re.findall(r\"```sql\\n(.*?)```\", response, re.DOTALL)\n",
    "\n",
    "    if matches:\n",
    "        executable_query = matches[0].strip()  # Get the first match and clean up whitespace\n",
    "        #print(\"Executable SQL Query:\")\n",
    "        #print(executable_query)\n",
    "    return executable_query.strip()"
   ]
  },
  {
   "cell_type": "markdown",
   "metadata": {},
   "source": [
    "Clenup up the SQL query"
   ]
  },
  {
   "cell_type": "code",
   "execution_count": 19,
   "metadata": {},
   "outputs": [
    {
     "data": {
      "text/plain": [
       "'SELECT COUNT(*) AS \"Hardware_Asset_Count\" FROM itam_hw WHERE \"Asset_Type\" = \\'Hardware\\';'"
      ]
     },
     "execution_count": 19,
     "metadata": {},
     "output_type": "execute_result"
    }
   ],
   "source": [
    "clean_query = parse_output(response)\n",
    "clean_query"
   ]
  },
  {
   "cell_type": "markdown",
   "metadata": {},
   "source": [
    "Run the query to validate"
   ]
  },
  {
   "cell_type": "code",
   "execution_count": 20,
   "metadata": {},
   "outputs": [
    {
     "data": {
      "text/plain": [
       "'[(56,)]'"
      ]
     },
     "execution_count": 20,
     "metadata": {},
     "output_type": "execute_result"
    }
   ],
   "source": [
    "db.run(clean_query)"
   ]
  },
  {
   "cell_type": "markdown",
   "metadata": {},
   "source": [
    "All in one (Convert user query into sql query and execute)"
   ]
  },
  {
   "cell_type": "code",
   "execution_count": 22,
   "metadata": {},
   "outputs": [
    {
     "data": {
      "text/plain": [
       "'[(56,)]'"
      ]
     },
     "execution_count": 22,
     "metadata": {},
     "output_type": "execute_result"
    }
   ],
   "source": [
    "write_query = create_sql_query_chain(llm, db)\n",
    "execute_query = QuerySQLDataBaseTool(db=db)\n",
    "\n",
    "chain = write_query | parse_output | execute_query\n",
    "\n",
    "chain.invoke({\"question\": \"How many hardware assets are there\"})\n"
   ]
  }
 ],
 "metadata": {
  "kernelspec": {
   "display_name": "Python 3 (ipykernel)",
   "language": "python",
   "name": "python3"
  },
  "language_info": {
   "codemirror_mode": {
    "name": "ipython",
    "version": 3
   },
   "file_extension": ".py",
   "mimetype": "text/x-python",
   "name": "python",
   "nbconvert_exporter": "python",
   "pygments_lexer": "ipython3",
   "version": "3.11.11"
  }
 },
 "nbformat": 4,
 "nbformat_minor": 4
}
