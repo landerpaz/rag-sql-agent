{
 "cells": [
  {
   "cell_type": "markdown",
   "id": "ceab8eab-9810-45f8-a881-7bbbfb45c6c7",
   "metadata": {},
   "source": [
    "llama 3.2   : Parameters size      : 3B, Input tokens : 128,000, Output tokens : ? <br>\n",
    "openai - gpt-4o-mini : Parameters size(Apx) : 8B, Input tokens : 128,000, Output tokens : 16400 <br>\n",
    "openai - text-embedding-ada-002 : Dimension : 1536"
   ]
  },
  {
   "cell_type": "code",
   "execution_count": null,
   "id": "fdb1e773-66b5-422c-9d7b-d64d0fc2051a",
   "metadata": {},
   "outputs": [],
   "source": [
    "pip install psycopg2-binary"
   ]
  },
  {
   "cell_type": "code",
   "execution_count": null,
   "id": "d2de0a17-576f-48a3-94a4-8dd0bd0a42f9",
   "metadata": {},
   "outputs": [],
   "source": [
    "pip install psycopg2"
   ]
  },
  {
   "cell_type": "code",
   "execution_count": 43,
   "id": "55632968-88fa-4189-815a-9403d2186cdf",
   "metadata": {},
   "outputs": [],
   "source": [
    "from pyprojroot import here\n",
    "import pandas as pd\n",
    "import chromadb\n",
    "from openai import OpenAI\n",
    "from langchain.llms import Ollama\n",
    "import psycopg2"
   ]
  },
  {
   "cell_type": "code",
   "execution_count": 15,
   "id": "94a34807-c31d-45da-8d17-5b10084f7e3a",
   "metadata": {},
   "outputs": [],
   "source": [
    "# Database connection parameters\n",
    "conn = psycopg2.connect(\n",
    "    host=\"localhost\",\n",
    "    #database=\"postgres\",\n",
    "    database=\"vectordb\",\n",
    "    user=\"postgres\",\n",
    "    password=\"\",\n",
    ")\n",
    "cursor = conn.cursor()"
   ]
  },
  {
   "cell_type": "code",
   "execution_count": null,
   "id": "9da47f7b-3bb4-41b8-8b0c-47b4425fe191",
   "metadata": {},
   "outputs": [],
   "source": []
  },
  {
   "cell_type": "code",
   "execution_count": null,
   "id": "cc8efbfd-d0b7-43c7-afcc-ac4d78441424",
   "metadata": {},
   "outputs": [],
   "source": []
  },
  {
   "cell_type": "markdown",
   "id": "9a78a241-39c4-4a7d-8c7c-7a9f5e431dd8",
   "metadata": {},
   "source": [
    "<b>Create LLAMA client</b>"
   ]
  },
  {
   "cell_type": "code",
   "execution_count": 44,
   "id": "3eb2fdec-08fe-45e4-a8e5-9ecac8126386",
   "metadata": {},
   "outputs": [
    {
     "name": "stderr",
     "output_type": "stream",
     "text": [
      "/var/folders/79/bnb36vfn6wzdfrwd96krpm5m0000gn/T/ipykernel_76500/3168630985.py:3: LangChainDeprecationWarning: The class `Ollama` was deprecated in LangChain 0.3.1 and will be removed in 1.0.0. An updated version of the class exists in the :class:`~langchain-ollama package and should be used instead. To use it run `pip install -U :class:`~langchain-ollama` and import as `from :class:`~langchain_ollama import OllamaLLM``.\n",
      "  llama_llm = Ollama(\n"
     ]
    }
   ],
   "source": [
    "ollama_endpoint = \"http://localhost:11434\"\n",
    "#ollama_api_key = \"\"\n",
    "llama_llm = Ollama(\n",
    "    model=\"llama3.2\",\n",
    "    base_url=ollama_endpoint,\n",
    "    #api_key=\n",
    ")"
   ]
  },
  {
   "cell_type": "markdown",
   "id": "85180d4f-4931-4a6d-8364-8cff4ff28189",
   "metadata": {},
   "source": [
    "<b>Create GPT client</b>"
   ]
  },
  {
   "cell_type": "code",
   "execution_count": 46,
   "id": "1bb1fba6-b9f5-4eb1-adfe-4287d98dab90",
   "metadata": {},
   "outputs": [],
   "source": [
    "gpt_llm = OpenAI(api_key=\"\")"
   ]
  },
  {
   "cell_type": "markdown",
   "id": "0ce5256c-3da3-4ac8-9a2c-e5b192cf84b5",
   "metadata": {},
   "source": [
    "<b>Create vector DB client</b>"
   ]
  },
  {
   "cell_type": "code",
   "execution_count": 28,
   "id": "fee31945-e1d6-41fe-b285-e1bd0f035248",
   "metadata": {},
   "outputs": [],
   "source": [
    "chroma_client = chromadb.PersistentClient(path=str(here(\"/Users/ashokarulsamy/Python Learning/itam/data/chroma_db/chroma_itam_ada\")))"
   ]
  },
  {
   "cell_type": "markdown",
   "id": "2bc6e4ef-894d-433e-8ece-af36ccaf7415",
   "metadata": {},
   "source": [
    "<b>Create collection in vector DB</b>"
   ]
  },
  {
   "cell_type": "code",
   "execution_count": null,
   "id": "19200669-c640-4572-942a-e785f0dc9481",
   "metadata": {},
   "outputs": [],
   "source": [
    "#Already executed\n",
    "collection = chroma_client.create_collection(name=\"itam_hw\")"
   ]
  },
  {
   "cell_type": "markdown",
   "id": "2450cfa7-e2a7-4b9d-add6-af8de4a94ab5",
   "metadata": {},
   "source": [
    "<b>Load data from csv file into data frame</b>"
   ]
  },
  {
   "cell_type": "code",
   "execution_count": 12,
   "id": "ad8e01b2-3ef5-4f65-a5d3-a9c556ae1eaa",
   "metadata": {},
   "outputs": [],
   "source": [
    "file_dir = here(\"/Users/ashokarulsamy/Python Learning/itam/data/itam_files/itam_hw.csv\")\n",
    "df = pd.read_csv(file_dir, nrows=100)"
   ]
  },
  {
   "cell_type": "code",
   "execution_count": null,
   "id": "3bfa3829-94b4-4dae-97b6-5ab63c5e0dca",
   "metadata": {},
   "outputs": [],
   "source": [
    "filtered_df = df[df['Assigned_To'] == 'Ashok Arulsamy']"
   ]
  },
  {
   "cell_type": "code",
   "execution_count": null,
   "id": "8d2ee7cb-216c-4c28-85f3-79e79a406f4d",
   "metadata": {},
   "outputs": [],
   "source": [
    "filtered_df"
   ]
  },
  {
   "cell_type": "markdown",
   "id": "6eaff78e-7915-433e-9d1c-3ae87b5e4a6a",
   "metadata": {},
   "source": [
    "<b>Create chunk and generate vector represenattion for chunk using embedding model</b>"
   ]
  },
  {
   "cell_type": "code",
   "execution_count": 16,
   "id": "cbe17516-de02-4729-90f9-68dbe6998d24",
   "metadata": {},
   "outputs": [],
   "source": [
    "#Already executed\n",
    "docs = []\n",
    "metadatas = []\n",
    "ids = []\n",
    "embeddings = []\n",
    "for index, row in df.iterrows():\n",
    "    output_str = \"\"\n",
    "    # Treat each row as a separate chunk\n",
    "    for col in df.columns:\n",
    "        output_str += f\"{col}: {row[col]},\\n\"\n",
    "    response = gpt_llm.embeddings.create(input = [output_str], model=\"text-embedding-ada-002\").data[0].embedding\n",
    "    embeddings.append(response)\n",
    "    docs.append(output_str)\n",
    "    metadatas.append({\"source\": \"itam_hw\"})\n",
    "    ids.append(f\"id{index}\")\n",
    "    cursor.execute(\n",
    "        \"INSERT INTO itam1 (asset_detail, embedding) VALUES (%s, %s)\",\n",
    "        (output_str, response)\n",
    "    )\n",
    "\n",
    "conn.commit()\n",
    "cursor.close()\n",
    "conn.close()"
   ]
  },
  {
   "cell_type": "code",
   "execution_count": null,
   "id": "6e4530ae-e49b-4427-a1b9-ce035ae1e8e6",
   "metadata": {},
   "outputs": [],
   "source": [
    "docs"
   ]
  },
  {
   "cell_type": "code",
   "execution_count": null,
   "id": "a018dc26-f477-4872-b4f7-56f7d9776df0",
   "metadata": {},
   "outputs": [],
   "source": [
    "print(metadatas)\n",
    "print(ids)"
   ]
  },
  {
   "cell_type": "code",
   "execution_count": null,
   "id": "a18b5f75-3f54-400b-987f-aad650a9967c",
   "metadata": {},
   "outputs": [],
   "source": [
    "embeddings[0][:10]"
   ]
  },
  {
   "cell_type": "markdown",
   "id": "36926924-1871-4b62-9e5c-ea05d7db29d7",
   "metadata": {},
   "source": [
    "<b>Vector embedding - Load vector represenation in vector DB</b>"
   ]
  },
  {
   "cell_type": "code",
   "execution_count": null,
   "id": "1f173b12-674d-4bde-a4f9-0b06e6a82177",
   "metadata": {},
   "outputs": [],
   "source": [
    "#Already executed\n",
    "collection.add(\n",
    "    documents=docs,\n",
    "    metadatas=metadatas,\n",
    "    embeddings=embeddings,\n",
    "    ids=ids\n",
    ")"
   ]
  },
  {
   "cell_type": "code",
   "execution_count": null,
   "id": "a00818ab-0daf-41dc-819c-cc63c5a1bdb5",
   "metadata": {},
   "outputs": [],
   "source": [
    "print(\"Number of vectors in vectordb:\", collection.count())"
   ]
  },
  {
   "cell_type": "markdown",
   "id": "7882dcec-b35e-46ad-9118-a49e7143ed18",
   "metadata": {},
   "source": [
    "<b>Vector embedding for user query</b>"
   ]
  },
  {
   "cell_type": "code",
   "execution_count": 17,
   "id": "b082ae2d-40df-4f51-9a26-6f09b041844c",
   "metadata": {},
   "outputs": [],
   "source": [
    "user_query = \"I'm Ashok Arulsamy, list out assets assigned to me\"\n",
    "#user_query = \"List of retired assets\"\n",
    "#user_query = \"list of assets for which warrenty expires in the year 2025\"\n",
    "#user_query = \"How many hardware assets are there\" # try agent as semantic search will return huge volume of data\n",
    "user_query_embeddings = gpt_llm.embeddings.create(input = [user_query], model=\"text-embedding-ada-002\").data[0].embedding"
   ]
  },
  {
   "cell_type": "code",
   "execution_count": null,
   "id": "f1ecca91-0252-43f2-86ef-7e99dc13f7dc",
   "metadata": {},
   "outputs": [],
   "source": [
    "user_query_embeddings"
   ]
  },
  {
   "cell_type": "markdown",
   "id": "ac0c06bb-8fa8-4da9-b81c-994e85f189e4",
   "metadata": {},
   "source": [
    "<b>Create vector DB instance</b>"
   ]
  },
  {
   "cell_type": "code",
   "execution_count": 29,
   "id": "8d54305e-7cd3-438f-99e2-95a0aeaa23ae",
   "metadata": {},
   "outputs": [
    {
     "data": {
      "text/plain": [
       "100"
      ]
     },
     "execution_count": 29,
     "metadata": {},
     "output_type": "execute_result"
    }
   ],
   "source": [
    "vectordb = chroma_client.get_collection(name=\"itam_hw\")\n",
    "vectordb.count()"
   ]
  },
  {
   "cell_type": "markdown",
   "id": "864e7e23-19c4-48d6-b062-857ec88ebeaa",
   "metadata": {},
   "source": [
    "<b>Semantic search for user query against vector DB</b>"
   ]
  },
  {
   "cell_type": "code",
   "execution_count": 30,
   "id": "63e5f2fe-1982-4c38-81ed-2e0b23197078",
   "metadata": {},
   "outputs": [
    {
     "data": {
      "text/plain": [
       "{'ids': [['id23', 'id12', 'id1', 'id10', 'id6']],\n",
       " 'embeddings': None,\n",
       " 'documents': [['Asset_ID: HW024,\\nAsset_Name: Card Device,\\nAsset_Type: Hardware,\\nManufacturer: Lenovo,\\nModel: Model-0757,\\nPurchase_Date: 2022-12-27,\\nWarranty_Expiry: 2028-05-04,\\nAssigned_To: Ashok Arulsamy,\\nStatus: Retired,\\n',\n",
       "   'Asset_ID: HW013,\\nAsset_Name: Majority Device,\\nAsset_Type: Hardware,\\nManufacturer: Lenovo,\\nModel: Model-4924,\\nPurchase_Date: 2022-04-22,\\nWarranty_Expiry: 2029-10-02,\\nAssigned_To: Ashok Arulsamy,\\nStatus: In Use,\\n',\n",
       "   'Asset_ID: SW002,\\nAsset_Name: Source Software,\\nAsset_Type: Software,\\nManufacturer: SAP,\\nModel: Version-82.2,\\nPurchase_Date: 2022-11-06,\\nWarranty_Expiry: 2027-04-17,\\nAssigned_To: Ashok Arulsamy,\\nStatus: Active,\\n',\n",
       "   'Asset_ID: HW011,\\nAsset_Name: Student Device,\\nAsset_Type: Hardware,\\nManufacturer: Lenovo,\\nModel: Model-9315,\\nPurchase_Date: 2024-09-04,\\nWarranty_Expiry: 2026-03-25,\\nAssigned_To: Anna Williams,\\nStatus: Available,\\n',\n",
       "   'Asset_ID: HW007,\\nAsset_Name: Former Device,\\nAsset_Type: Hardware,\\nManufacturer: Asus,\\nModel: Model-2796,\\nPurchase_Date: 2021-07-28,\\nWarranty_Expiry: 2028-10-14,\\nAssigned_To: Jeffrey Griffin,\\nStatus: In Use,\\n']],\n",
       " 'uris': None,\n",
       " 'data': None,\n",
       " 'metadatas': [[{'source': 'itam_hw'},\n",
       "   {'source': 'itam_hw'},\n",
       "   {'source': 'itam_hw'},\n",
       "   {'source': 'itam_hw'},\n",
       "   {'source': 'itam_hw'}]],\n",
       " 'distances': [[0.3903917074203491,\n",
       "   0.3977765440940857,\n",
       "   0.39977696537971497,\n",
       "   0.4203932583332062,\n",
       "   0.42255866527557373]],\n",
       " 'included': [<IncludeEnum.distances: 'distances'>,\n",
       "  <IncludeEnum.documents: 'documents'>,\n",
       "  <IncludeEnum.metadatas: 'metadatas'>]}"
      ]
     },
     "execution_count": 30,
     "metadata": {},
     "output_type": "execute_result"
    }
   ],
   "source": [
    "retrieved_context = vectordb.query(\n",
    "    query_embeddings = user_query_embeddings,\n",
    "    n_results=5 #top_k\n",
    ")\n",
    "\n",
    "retrieved_context"
   ]
  },
  {
   "cell_type": "code",
   "execution_count": 37,
   "id": "6321d878-1a1e-4278-9513-7e96d5aef426",
   "metadata": {},
   "outputs": [],
   "source": [
    "def semantic_search(user_query_embeddings, top_k=5):\n",
    "    try:\n",
    "        conn = psycopg2.connect(\n",
    "            host=\"localhost\",\n",
    "            #database=\"postgres\",\n",
    "            database=\"vectordb\",\n",
    "            user=\"postgres\",\n",
    "            password=\"password\",\n",
    "        )\n",
    "        cursor = conn.cursor()\n",
    "\n",
    "        # SQL query to perform semantic search\n",
    "        # query = \"\"\"\n",
    "        # SELECT id, asset_detail, embedding, \n",
    "        #        1 - (embedding <-> %s) AS similarity -- Cosine similarity\n",
    "        # FROM itam1\n",
    "        # ORDER BY embedding <-> %s -- L2 (Euclidean) or cosine distance\n",
    "        # LIMIT %s;\n",
    "        # \"\"\"\n",
    "\n",
    "        query = \"\"\"\n",
    "        SELECT id, asset_detail, embedding, \n",
    "               1 - (embedding <-> %s::vector) AS similarity -- Cosine similarity\n",
    "        FROM itam1\n",
    "        ORDER BY embedding <-> %s::vector -- L2 (Euclidean) or cosine distance\n",
    "        LIMIT %s;\n",
    "        \"\"\"\n",
    "        \n",
    "        # Execute the query\n",
    "        cursor.execute(query, (user_query_embeddings, user_query_embeddings, top_k))\n",
    "        results = cursor.fetchall()\n",
    "\n",
    "        print(results)\n",
    "\n",
    "        # Print the results\n",
    "        for row in results:\n",
    "            print(f\"ID: {row[0]}, Content: {row[1]}, Similarity: {row[3]:.4f}\")\n",
    "\n",
    "        # formatted_results = [\n",
    "        #     {\"id\": row[0], \"content\": row[1], \"similarity\": round(row[2], 4)}\n",
    "        #     for row in results\n",
    "        # ]\n",
    "\n",
    "    except Exception as e:\n",
    "        print(\"Error during semantic search:\", e)\n",
    "    finally:\n",
    "        # Close the connection\n",
    "        if conn:\n",
    "            cursor.close()\n",
    "            conn.close()\n"
   ]
  },
  {
   "cell_type": "code",
   "execution_count": 39,
   "id": "95cb6386-8bc2-4e01-9977-842329db5232",
   "metadata": {},
   "outputs": [],
   "source": [
    "# 2. Perform similarity search using pgvector\n",
    "def retrieve_similar_documents(query_embedding, top_k=5):\n",
    "    try:\n",
    "        conn = psycopg2.connect(\n",
    "            host=\"localhost\",\n",
    "            #database=\"postgres\",\n",
    "            database=\"vectordb\",\n",
    "            user=\"postgres\",\n",
    "            password=\"password\",\n",
    "        )\n",
    "        cursor = conn.cursor()\n",
    "\n",
    "        # Convert query embedding to PostgreSQL array string\n",
    "        query_embedding_pg = f\"ARRAY[{', '.join(map(str, query_embedding))}]\"\n",
    "\n",
    "        # SQL query to perform similarity search\n",
    "        query = f\"\"\"\n",
    "        SELECT id, asset_detail, 1 - (embedding <-> {query_embedding_pg}::vector) AS similarity\n",
    "        FROM itam1\n",
    "        ORDER BY embedding <-> {query_embedding_pg}::vector\n",
    "        LIMIT {top_k};\n",
    "        \"\"\"\n",
    "        cursor.execute(query)\n",
    "        results = cursor.fetchall()\n",
    "\n",
    "        return [{\"id\": row[0], \"content\": row[1], \"similarity\": row[2]} for row in results]\n",
    "    except Exception as e:\n",
    "        print(\"Error during similarity search:\", e)\n",
    "        return []\n",
    "    finally:\n",
    "        cursor.close()\n",
    "        conn.close()"
   ]
  },
  {
   "cell_type": "code",
   "execution_count": 41,
   "id": "71bd4aff-91cf-4a54-95ae-2bba8593c725",
   "metadata": {},
   "outputs": [
    {
     "data": {
      "text/plain": [
       "[{'id': 24,\n",
       "  'content': 'Asset_ID: HW024,\\nAsset_Name: Card Device,\\nAsset_Type: Hardware,\\nManufacturer: Lenovo,\\nModel: Model-0757,\\nPurchase_Date: 2022-12-27,\\nWarranty_Expiry: 2028-05-04,\\nAssigned_To: Ashok Arulsamy,\\nStatus: Retired,\\n',\n",
       "  'similarity': 0.37518651884399656},\n",
       " {'id': 13,\n",
       "  'content': 'Asset_ID: HW013,\\nAsset_Name: Majority Device,\\nAsset_Type: Hardware,\\nManufacturer: Lenovo,\\nModel: Model-4924,\\nPurchase_Date: 2022-04-22,\\nWarranty_Expiry: 2029-10-02,\\nAssigned_To: Ashok Arulsamy,\\nStatus: In Use,\\n',\n",
       "  'similarity': 0.36930480825933343},\n",
       " {'id': 2,\n",
       "  'content': 'Asset_ID: SW002,\\nAsset_Name: Source Software,\\nAsset_Type: Software,\\nManufacturer: SAP,\\nModel: Version-82.2,\\nPurchase_Date: 2022-11-06,\\nWarranty_Expiry: 2027-04-17,\\nAssigned_To: Ashok Arulsamy,\\nStatus: Active,\\n',\n",
       "  'similarity': 0.36772093473838385},\n",
       " {'id': 53,\n",
       "  'content': 'Asset_ID: HW053,\\nAsset_Name: Step Device,\\nAsset_Type: Hardware,\\nManufacturer: Asus,\\nModel: Model-6226,\\nPurchase_Date: 2022-10-14,\\nWarranty_Expiry: 2029-05-23,\\nAssigned_To: Ashok Arulsamy,\\nStatus: Available,\\n',\n",
       "  'similarity': 0.36125314201933667},\n",
       " {'id': 11,\n",
       "  'content': 'Asset_ID: HW011,\\nAsset_Name: Student Device,\\nAsset_Type: Hardware,\\nManufacturer: Lenovo,\\nModel: Model-9315,\\nPurchase_Date: 2024-09-04,\\nWarranty_Expiry: 2026-03-25,\\nAssigned_To: Anna Williams,\\nStatus: Available,\\n',\n",
       "  'similarity': 0.35162254979229035}]"
      ]
     },
     "execution_count": 41,
     "metadata": {},
     "output_type": "execute_result"
    }
   ],
   "source": [
    "#semantic_search(user_query_embeddings, top_k=5)\n",
    "retrieved_context = retrieve_similar_documents(user_query_embeddings, top_k=5)\n",
    "retrieved_context"
   ]
  },
  {
   "cell_type": "markdown",
   "id": "e50a7d90-6670-4feb-bef6-20140141ac16",
   "metadata": {},
   "source": [
    "<b>Generate user friendly message using LLAMA</b>"
   ]
  },
  {
   "cell_type": "code",
   "execution_count": 45,
   "id": "20b40a21-87ea-4bdd-aa06-9fdfab732cc6",
   "metadata": {},
   "outputs": [
    {
     "name": "stderr",
     "output_type": "stream",
     "text": [
      "/var/folders/79/bnb36vfn6wzdfrwd96krpm5m0000gn/T/ipykernel_76500/1309864738.py:12: LangChainDeprecationWarning: The method `BaseLLM.__call__` was deprecated in langchain-core 0.1.7 and will be removed in 1.0. Use :meth:`~invoke` instead.\n",
      "  response = llama_llm(prompt)\n"
     ]
    },
    {
     "name": "stdout",
     "output_type": "stream",
     "text": [
      "Based on the retrieved content, here are the assets assigned to you, Ashok Arulsamy:\n",
      "\n",
      "1. Asset_ID: HW024\n",
      "   - Asset_Name: Card Device\n",
      "   - Asset_Type: Hardware\n",
      "   - Manufacturer: Lenovo\n",
      "   - Model: Model-0757\n",
      "   - Purchase_Date: 2022-12-27\n",
      "   - Warranty_Expiry: 2028-05-04\n",
      "   - Status: Retired\n",
      "\n",
      "2. Asset_ID: HW013\n",
      "   - Asset_Name: Majority Device\n",
      "   - Asset_Type: Hardware\n",
      "   - Manufacturer: Lenovo\n",
      "   - Model: Model-4924\n",
      "   - Purchase_Date: 2022-04-22\n",
      "   - Warranty_Expiry: 2029-10-02\n",
      "   - Status: In Use\n",
      "\n",
      "3. Asset_ID: SW002\n",
      "   - Asset_Name: Source Software\n",
      "   - Asset_Type: Software\n",
      "   - Manufacturer: SAP\n",
      "   - Model: Version-82.2\n",
      "   - Purchase_Date: 2022-11-06\n",
      "   - Warranty_Expiry: 2027-04-17\n",
      "   - Status: Active\n",
      "\n",
      "4. Asset_ID: HW053\n",
      "   - Asset_Name: Step Device\n",
      "   - Asset_Type: Hardware\n",
      "   - Manufacturer: Asus\n",
      "   - Model: Model-6226\n",
      "   - Purchase_Date: 2022-10-14\n",
      "   - Warranty_Expiry: 2029-05-23\n",
      "   - Status: Available\n"
     ]
    }
   ],
   "source": [
    "# Create a message with roles\n",
    "messages = [\n",
    "    {\"role\": \"system\", \"content\": \"You are a knowledgeable assistant that provides detailed answers.\"},\n",
    "    {\"role\": \"user\", \"content\": f\"User's question: {user_query}\"},\n",
    "    {\"role\": \"assistant\", \"content\": f\"Retrieved content: {retrieved_context}\"}\n",
    "]\n",
    "\n",
    "# Convert messages to a single string\n",
    "prompt = \"\\n\".join([f\"{msg['role'].capitalize()}: {msg['content']}\" for msg in messages])\n",
    "\n",
    "# Pass messages as input\n",
    "response = llama_llm(prompt)\n",
    "print(response)"
   ]
  },
  {
   "cell_type": "markdown",
   "id": "eaa67f83-f7f3-46ce-b612-b8758d3789cf",
   "metadata": {},
   "source": [
    "<b>Generate user friendly message using GPT</b>"
   ]
  },
  {
   "cell_type": "code",
   "execution_count": 47,
   "id": "2e9bd37d-93ba-4a27-a4d4-c64e1903237f",
   "metadata": {},
   "outputs": [
    {
     "name": "stdout",
     "output_type": "stream",
     "text": [
      "Generated Answer:\n",
      "Here is a list of assets assigned to you, Ashok Arulsamy:\n",
      "\n",
      "1. **Asset ID:** HW024\n",
      "   - **Asset Name:** Card Device\n",
      "   - **Asset Type:** Hardware\n",
      "   - **Manufacturer:** Lenovo\n",
      "   - **Model:** Model-0757\n",
      "   - **Purchase Date:** December 27, 2022\n",
      "   - **Warranty Expiry:** May 4, 2028\n",
      "   - **Status:** Retired\n",
      "\n",
      "2. **Asset ID:** HW013\n",
      "   - **Asset Name:** Majority Device\n",
      "   - **Asset Type:** Hardware\n",
      "   - **Manufacturer:** Lenovo\n",
      "   - **Model:** Model-4924\n",
      "   - **Purchase Date:** April 22, 2022\n",
      "   - **Warranty Expiry:** October 2, 2029\n",
      "   - **Status:** In Use\n",
      "\n",
      "3. **Asset ID:** SW002\n",
      "   - **Asset Name:** Source Software\n",
      "   - **Asset Type:** Software\n",
      "   - **Manufacturer:** SAP\n",
      "   - **Model:** Version-82.2\n",
      "   - **Purchase Date:** November 6, 2022\n",
      "   - **Warranty Expiry:** April 17, 2027\n",
      "   - **Status:** Active\n",
      "\n",
      "4. **Asset ID:** HW053\n",
      "   - **Asset Name:** Step Device\n",
      "   - **Asset Type:** Hardware\n",
      "   - **Manufacturer:** Asus\n",
      "   - **Model:** Model-6226\n",
      "   - **Purchase Date:** October 14, 2022\n",
      "   - **Warranty Expiry:** May 23, 2029\n",
      "   - **Status:** Available\n",
      "\n",
      "If you need more information about any specific asset or further assistance, feel free to ask!\n"
     ]
    }
   ],
   "source": [
    "response = gpt_llm.chat.completions.create(\n",
    "    model=\"gpt-4o-mini\",\n",
    "    messages=[\n",
    "        {\"role\": \"system\", \"content\": \"You are a knowledgeable assistant that provides detailed answers.\"},\n",
    "        {\"role\": \"user\", \"content\": f\"User's question: {user_query}\"},\n",
    "        {\"role\": \"assistant\", \"content\": f\"Retrieved content: {retrieved_context}\"}\n",
    "    ],\n",
    "    temperature=0.0,  # Controls creativity (0.0 = deterministic, 1.0 = creative)\n",
    "    max_tokens=1000,   # Adjust as needed\n",
    ")\n",
    "\n",
    "print(\"Generated Answer:\")\n",
    "print(response.choices[0].message.content)"
   ]
  }
 ],
 "metadata": {
  "kernelspec": {
   "display_name": "Python 3 (ipykernel)",
   "language": "python",
   "name": "python3"
  },
  "language_info": {
   "codemirror_mode": {
    "name": "ipython",
    "version": 3
   },
   "file_extension": ".py",
   "mimetype": "text/x-python",
   "name": "python",
   "nbconvert_exporter": "python",
   "pygments_lexer": "ipython3",
   "version": "3.11.11"
  }
 },
 "nbformat": 4,
 "nbformat_minor": 5
}
